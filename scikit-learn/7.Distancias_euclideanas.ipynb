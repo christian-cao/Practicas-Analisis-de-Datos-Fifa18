{
 "cells": [
  {
   "cell_type": "code",
   "execution_count": 1,
   "metadata": {
    "collapsed": true
   },
   "outputs": [],
   "source": [
    "import pandas as pd \n",
    "from sklearn.metrics.pairwise import euclidean_distances "
   ]
  },
  {
   "cell_type": "code",
   "execution_count": 2,
   "metadata": {
    "collapsed": true
   },
   "outputs": [],
   "source": [
    "fifa = pd.read_csv('complete.csv') # Lectura del archivo\n",
    "fifa = pd.DataFrame(fifa) # convertir el archivo en un DataFrame\n",
    "fifa = fifa.iloc[:,0:94] #Seleccion de las caracteristicas del archivo "
   ]
  },
  {
   "cell_type": "code",
   "execution_count": 3,
   "metadata": {},
   "outputs": [],
   "source": [
    "# Seleccion de los atributos que se van a comparar, creando un conjunto de datos separados.\n",
    "atrib =['name','pac', 'sho', 'pas', 'dri', 'def', 'phy', 'international_reputation', 'skill_moves',  'crossing', 'finishing', 'heading_accuracy', 'short_passing',\n",
    " 'volleys', 'dribbling', 'curve', 'free_kick_accuracy', 'long_passing', 'ball_control', 'acceleration', 'sprint_speed',\n",
    " 'agility', 'reactions', 'balance', 'shot_power', 'jumping', 'stamina', 'strength', 'long_shots', 'aggression', 'interceptions',\n",
    " 'positioning', 'vision', 'penalties', 'composure', 'marking', 'standing_tackle', 'sliding_tackle']"
   ]
  },
  {
   "cell_type": "code",
   "execution_count": 4,
   "metadata": {
    "collapsed": true
   },
   "outputs": [],
   "source": [
    "x = fifa[atrib] # creacion de un dataFrame con los atributos a utilizar\n"
   ]
  },
  {
   "cell_type": "code",
   "execution_count": 5,
   "metadata": {
    "scrolled": true
   },
   "outputs": [
    {
     "name": "stdout",
     "output_type": "stream",
     "text": [
      "                         name                              club    nationality\n",
      "47               J. Rodríguez                  FC Bayern Munich       Colombia\n",
      "341              R. Rodríguez                             Milan    Switzerland\n",
      "381              G. Rodríguez            San Lorenzo de Almagro      Argentina\n",
      "1861             C. Rodríguez                               NaN        Uruguay\n",
      "2181         Víctor Rodríguez               Seattle Sounders FC          Spain\n",
      "2182          David Rodríguez                        CA Osasuna          Spain\n",
      "2318          Chema Rodríguez                        Levante UD          Spain\n",
      "2873             A. Rodríguez                   Deportes Tolima       Colombia\n",
      "2913             G. Rodríguez                      Club América      Argentina\n",
      "2943             A. Rodríguez                               NaN           Peru\n",
      "3147             D. Rodríguez                     Independiente        Uruguay\n",
      "3471             J. Rodríguez                     Santos Laguna        Uruguay\n",
      "3692             D. Rodríguez                   Rosario Central      Argentina\n",
      "3812             M. Rodríguez                         Cruz Azul          Chile\n",
      "3819             D. Rodríguez            Independiente Santa Fe       Colombia\n",
      "3880             C. Rodríguez                         Club León         Mexico\n",
      "4289             P. Rodríguez                        AEK Athens      Argentina\n",
      "4904             F. Rodríguez                  Lobos de la BUAP         Mexico\n",
      "4943             J. Rodríguez                          Banfield      Argentina\n",
      "4987             L. Rodríguez                   Tigres U.A.N.L.         Mexico\n",
      "5313             L. Rodríguez                  Atlético Tucumán      Argentina\n",
      "5605             L. Rodríguez           Estudiantes de La Plata      Argentina\n",
      "5775             J. Rodríguez                      Club Tijuana         Mexico\n",
      "5918             C. Rodríguez                 Colon de Santa Fe      Argentina\n",
      "6281      Alejandro Rodríguez                       Salernitana          Spain\n",
      "6317             H. Rodríguez                            Puebla         Mexico\n",
      "6538             G. Rodríguez                  Monarcas Morelia         Mexico\n",
      "7368             F. Rodríguez                         FC Luzern    Switzerland\n",
      "7564             F. Rodríguez                        Godoy Cruz        Uruguay\n",
      "7723             J. Rodríguez                  Monarcas Morelia         Mexico\n",
      "8076           Fran Rodríguez                        UD Almería          Spain\n",
      "8583             F. Rodríguez              Atlético Bucaramanga       Colombia\n",
      "8760             C. Rodríguez               Club Atlético Tigre        Uruguay\n",
      "9638             O. Rodríguez                         Club León         Mexico\n",
      "9953             A. Rodríguez        Atletico Nacional Medellin       Colombia\n",
      "10254            T. Rodríguez                             Genoa      Argentina\n",
      "10417          Alex Rodríguez                       Boavista FC          Spain\n",
      "10460            D. Rodríguez                       River Plate      Argentina\n",
      "11159          Dani Rodríguez                 Albacete Balompié          Spain\n",
      "11305          Juan Rodríguez            Real Sporting de Gijón          Spain\n",
      "12436            L. Rodríguez       Tiburones Rojos de Veracruz      Argentina\n",
      "13281            M. Rodríguez           SG Sonnenhof Großaspach  United States\n",
      "13746            E. Rodríguez               Club Atlético Tigre      Argentina\n",
      "14293            J. Rodríguez  Corporación Club Deportivo Tuluá       Colombia\n",
      "14644            L. Rodríguez                       Envigado FC       Colombia\n",
      "14998            M. Rodríguez                     Santos Laguna         Mexico\n",
      "15435            C. Rodríguez               Patriotas Boyacá FC       Colombia\n",
      "15605            M. Rodríguez                 Chacarita Juniors      Argentina\n",
      "15977            I. Rodríguez                            Puebla         Mexico\n",
      "16167            J. Rodríguez                         Club León         Mexico\n",
      "16374  F. Rodríguez Calleriza                Sandefjord Fotball        Uruguay\n",
      "16813            D. Rodríguez  Corporación Club Deportivo Tuluá       Colombia\n"
     ]
    }
   ],
   "source": [
    "print(fifa[['name','club','nationality']][fifa['name'].str.contains(\"Rodríguez\")])\n",
    "# Seleccionamos el jugador que va a servir de base para la comparacion : James Rodríguez\n",
    "# Buscamos en la columna name quienes contienen el string \"Rodríguez\"\n",
    "\n"
   ]
  },
  {
   "cell_type": "code",
   "execution_count": 6,
   "metadata": {
    "collapsed": true
   },
   "outputs": [],
   "source": [
    "x2 = pd.DataFrame(fifa.loc[47,atrib].values.reshape(1,38))\n",
    "# Dado que tiene el indice 47 en el dataframe, lo seleccionamos para comparar sus atributos\n",
    "# Generamos un dataframe de un solo vector con el valor de todos sus atributos"
   ]
  },
  {
   "cell_type": "code",
   "execution_count": 7,
   "metadata": {},
   "outputs": [
    {
     "name": "stdout",
     "output_type": "stream",
     "text": [
      "             0   1   2   3   4   5   6  7  8   9  ...  28  29  30  31  32  33  \\\n",
      "0  J. Rodríguez  76  85  85  83  40  68  4  4  88 ...  91  65  55  80  86  81   \n",
      "\n",
      "   34  35  36  37  \n",
      "0  87  25  42  30  \n",
      "\n",
      "[1 rows x 38 columns]\n"
     ]
    }
   ],
   "source": [
    "print(x2)"
   ]
  },
  {
   "cell_type": "code",
   "execution_count": 8,
   "metadata": {
    "collapsed": true
   },
   "outputs": [],
   "source": [
    "top15 = euclidean_distances(x.iloc[:,1:], x2.iloc[:,1:])\n",
    "# Se saca el algoritomo de  distancias euclideanas\n"
   ]
  },
  {
   "cell_type": "code",
   "execution_count": 9,
   "metadata": {},
   "outputs": [],
   "source": [
    "top15df = pd.DataFrame(top15) # se crea un dataframe con los valores de las distancias\n",
    "top15df = top15df.sort_values([0]) # se ordenan los valores \n",
    "\n"
   ]
  },
  {
   "cell_type": "code",
   "execution_count": 10,
   "metadata": {},
   "outputs": [
    {
     "name": "stdout",
     "output_type": "stream",
     "text": [
      " Top 15 jugadores con atributos parecidos los de James Rodríguez:\n"
     ]
    },
    {
     "data": {
      "text/plain": [
       "11      K. De Bruyne\n",
       "177         D. Payet\n",
       "259         M. Kruse\n",
       "291          Raffael\n",
       "55           M. Reus\n",
       "428        J. Iličić\n",
       "492        E. Lamela\n",
       "95     Marco Asensio\n",
       "329      Lucas Pérez\n",
       "101       J. Draxler\n",
       "808        W. Khazri\n",
       "354     R. Boudebouz\n",
       "32         A. Robben\n",
       "424        T. Hazard\n",
       "Name: name, dtype: object"
      ]
     },
     "execution_count": 10,
     "metadata": {},
     "output_type": "execute_result"
    }
   ],
   "source": [
    "print(\" Top 15 jugadores con atributos parecidos los de James Rodríguez:\")\n",
    "x.iloc[top15df.index.values[1:15],0] # se obtiene el nombre de los 20 jugadores "
   ]
  },
  {
   "cell_type": "code",
   "execution_count": null,
   "metadata": {
    "collapsed": true
   },
   "outputs": [],
   "source": []
  }
 ],
 "metadata": {
  "kernelspec": {
   "display_name": "Python 3",
   "language": "python",
   "name": "python3"
  },
  "language_info": {
   "codemirror_mode": {
    "name": "ipython",
    "version": 3
   },
   "file_extension": ".py",
   "mimetype": "text/x-python",
   "name": "python",
   "nbconvert_exporter": "python",
   "pygments_lexer": "ipython3",
   "version": "3.6.3"
  }
 },
 "nbformat": 4,
 "nbformat_minor": 2
}
