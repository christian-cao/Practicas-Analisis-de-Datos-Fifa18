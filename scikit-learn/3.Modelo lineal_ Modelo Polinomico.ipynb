{
 "cells": [
  {
   "cell_type": "code",
   "execution_count": 1,
   "metadata": {
    "collapsed": true
   },
   "outputs": [],
   "source": [
    "import pandas as pd \n",
    "from sklearn import linear_model \n",
    "from sklearn.preprocessing import PolynomialFeatures\n",
    "from sklearn.metrics import mean_squared_error, r2_score\n",
    "\n",
    "from matplotlib import pyplot as plt\n",
    "%matplotlib inline"
   ]
  },
  {
   "cell_type": "code",
   "execution_count": 2,
   "metadata": {
    "collapsed": true
   },
   "outputs": [],
   "source": [
    "df = pd.read_csv('complete.csv')# Lectura del archivo"
   ]
  },
  {
   "cell_type": "code",
   "execution_count": 3,
   "metadata": {
    "collapsed": true
   },
   "outputs": [],
   "source": [
    "# se detecto que  los datos presentan valor NA/NaN (Not a Number)\n",
    "df= df.fillna(value=0) # Se procede a reemplazar los NaN por 0"
   ]
  },
  {
   "cell_type": "code",
   "execution_count": 4,
   "metadata": {
    "collapsed": true
   },
   "outputs": [],
   "source": [
    "data = df[:17750][:]"
   ]
  },
  {
   "cell_type": "code",
   "execution_count": 5,
   "metadata": {
    "scrolled": true
   },
   "outputs": [
    {
     "name": "stdout",
     "output_type": "stream",
     "text": [
      "[[20801 'Cristiano Ronaldo' 'C. Ronaldo dos Santos Aveiro' ..., False False\n",
      "  False]\n",
      " [158023 'L. Messi' 'Lionel Messi' ..., False False False]\n",
      " [190871 'Neymar' 'Neymar da Silva Santos Jr.' ..., False False False]\n",
      " ..., \n",
      " [239029 \"S. O'Mahony\" \"Sean O'Mahony\" ..., False False False]\n",
      " [240567 'T. Widdrington' 'Theo Widdrington' ..., False False False]\n",
      " [233912 'E. Damgaard' 'Emil Damgaard' ..., False False False]]\n"
     ]
    }
   ],
   "source": [
    "data = data.values # convertir dataframe en array de arrays\n",
    "print(data)"
   ]
  },
  {
   "cell_type": "code",
   "execution_count": 6,
   "metadata": {
    "collapsed": true
   },
   "outputs": [],
   "source": [
    "y = df['eur_wage'].values.reshape(-1,1) # seleccionar el 'SALARIO en euros' como variable DEPENDIENTE\n",
    "x1 = df['overall'].values.reshape(-1,1) # seleccionar el 'Rendimiento general' como variable INDEPENDIENTE"
   ]
  },
  {
   "cell_type": "code",
   "execution_count": 7,
   "metadata": {},
   "outputs": [
    {
     "data": {
      "text/plain": [
       "array([[ 565000.],\n",
       "       [ 565000.],\n",
       "       [ 280000.],\n",
       "       ..., \n",
       "       [   1000.],\n",
       "       [   1000.],\n",
       "       [   1000.]])"
      ]
     },
     "execution_count": 7,
     "metadata": {},
     "output_type": "execute_result"
    }
   ],
   "source": [
    "y"
   ]
  },
  {
   "cell_type": "code",
   "execution_count": 8,
   "metadata": {},
   "outputs": [
    {
     "data": {
      "text/plain": [
       "array([[94],\n",
       "       [93],\n",
       "       [92],\n",
       "       ..., \n",
       "       [46],\n",
       "       [46],\n",
       "       [46]], dtype=int64)"
      ]
     },
     "execution_count": 8,
     "metadata": {},
     "output_type": "execute_result"
    }
   ],
   "source": [
    "x1"
   ]
  },
  {
   "cell_type": "code",
   "execution_count": 9,
   "metadata": {
    "collapsed": true
   },
   "outputs": [],
   "source": [
    "poly = PolynomialFeatures(degree=5) # Seleccionar el modelo plinomico de grado 5\n"
   ]
  },
  {
   "cell_type": "code",
   "execution_count": 10,
   "metadata": {
    "collapsed": true
   },
   "outputs": [],
   "source": [
    "x_p = poly.fit_transform(x1) # transformacion polinomica de x1"
   ]
  },
  {
   "cell_type": "code",
   "execution_count": 11,
   "metadata": {
    "collapsed": true
   },
   "outputs": [],
   "source": [
    "clf = linear_model.LinearRegression().fit(x_p,y) # ajuste del modelo lineal"
   ]
  },
  {
   "cell_type": "code",
   "execution_count": 12,
   "metadata": {},
   "outputs": [
    {
     "data": {
      "text/plain": [
       "array([[  1.00000000e+00,   9.40000000e+01,   8.83600000e+03,\n",
       "          8.30584000e+05,   7.80748960e+07,   7.33904022e+09],\n",
       "       [  1.00000000e+00,   9.30000000e+01,   8.64900000e+03,\n",
       "          8.04357000e+05,   7.48052010e+07,   6.95688369e+09],\n",
       "       [  1.00000000e+00,   9.20000000e+01,   8.46400000e+03,\n",
       "          7.78688000e+05,   7.16392960e+07,   6.59081523e+09],\n",
       "       ..., \n",
       "       [  1.00000000e+00,   4.60000000e+01,   2.11600000e+03,\n",
       "          9.73360000e+04,   4.47745600e+06,   2.05962976e+08],\n",
       "       [  1.00000000e+00,   4.60000000e+01,   2.11600000e+03,\n",
       "          9.73360000e+04,   4.47745600e+06,   2.05962976e+08],\n",
       "       [  1.00000000e+00,   4.60000000e+01,   2.11600000e+03,\n",
       "          9.73360000e+04,   4.47745600e+06,   2.05962976e+08]])"
      ]
     },
     "execution_count": 12,
     "metadata": {},
     "output_type": "execute_result"
    }
   ],
   "source": [
    "x_p"
   ]
  },
  {
   "cell_type": "code",
   "execution_count": 13,
   "metadata": {
    "collapsed": true
   },
   "outputs": [],
   "source": [
    "y_pred = clf.predict(x_p) # predicciones"
   ]
  },
  {
   "cell_type": "code",
   "execution_count": 14,
   "metadata": {},
   "outputs": [
    {
     "name": "stdout",
     "output_type": "stream",
     "text": [
      "coeficientes del modelo: [[  0.00000000e+00   1.26972385e+06  -4.04381737e+04   6.41239864e+02\n",
      "   -5.07042881e+00   1.60264878e-02]]\n",
      "error cuadratico medio: 132795935.678\n",
      "puntuacion varianza: 0.750056326026\n"
     ]
    }
   ],
   "source": [
    "# Descripcion del modelo\n",
    "print('coeficientes del modelo:', clf.coef_)\n",
    "print('error cuadratico medio:',mean_squared_error(y, y_pred))\n",
    "print('puntuacion varianza:',r2_score(y,y_pred))"
   ]
  },
  {
   "cell_type": "code",
   "execution_count": 27,
   "metadata": {},
   "outputs": [
    {
     "data": {
      "image/png": "[encoded data removed]",
      "text/plain": [
       "<matplotlib.figure.Figure at 0xecc7710>"
      ]
     },
     "metadata": {},
     "output_type": "display_data"
    }
   ],
   "source": [
    "# grafica del modelo\n",
    "plt.scatter(x1,y)\n",
    "plt.plot(x1, y_pred, color='purple', linewidth=3.5)\n",
    "plt.show()"
   ]
  }
 ],
 "metadata": {
  "kernelspec": {
   "display_name": "Python 3",
   "language": "python",
   "name": "python3"
  },
  "language_info": {
   "codemirror_mode": {
    "name": "ipython",
    "version": 3
   },
   "file_extension": ".py",
   "mimetype": "text/x-python",
   "name": "python",
   "nbconvert_exporter": "python",
   "pygments_lexer": "ipython3",
   "version": "3.6.3"
  }
 },
 "nbformat": 4,
 "nbformat_minor": 2
}
